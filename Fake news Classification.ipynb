{
 "cells": [
  {
   "cell_type": "markdown",
   "id": "fdebb7e8",
   "metadata": {},
   "source": [
    "## Fake news Classification\n",
    "Description:\n",
    "This project is focused on building a machine learning model to classify news articles as either true or fake. The project uses a dataset of news articles and their corresponding labels (true or fake) to train and evaluate several machine learning algorithms, including Decision Tree Classifier, Random Forest Classifier, and Logistic Regression. The text data from the news articles is vectorized using CountVectorizer before being used as input to the machine learning algorithms. The project also includes a graphical user interface (GUI) built using the Tkinter library, allowing users to enter new text and classify it as either true or fake using the trained machine learning model. Overall, this project demonstrates the use of machine learning techniques for text classification and provides a practical application for identifying fake news."
   ]
  },
  {
   "cell_type": "code",
   "execution_count": 2,
   "id": "cb512305",
   "metadata": {},
   "outputs": [],
   "source": [
    "import pandas as pd\n",
    "import numpy as np\n",
    "\n",
    "from sklearn import tree\n",
    "from sklearn.tree import DecisionTreeClassifier\n",
    "from sklearn.ensemble import RandomForestClassifier\n",
    "from sklearn.linear_model import LogisticRegression\n",
    "\n",
    "from sklearn.metrics import classification_report\n",
    "\n",
    "import matplotlib.pyplot as plt\n",
    "from sklearn.model_selection import train_test_split\n",
    "from sklearn.metrics import accuracy_score\n",
    "from sklearn.feature_extraction.text import CountVectorizer"
   ]
  },
  {
   "cell_type": "markdown",
   "id": "4807bcc2",
   "metadata": {},
   "source": [
    "## Data preprocessing\n",
    "In the data preprocessing section, the code reads in a CSV file containing news articles and their corresponding labels. The 'id', 'title', and 'author' columns are dropped from the DataFrame, and CountVectorizer is used to vectorize the text data from the 'text' column. The vectorized text data and labels are then split into training and testing sets using train_test_split."
   ]
  },
  {
   "cell_type": "code",
   "execution_count": 3,
   "id": "3fe8354c",
   "metadata": {},
   "outputs": [
    {
     "name": "stdout",
     "output_type": "stream",
     "text": [
      "   id                                              title              author  \\\n",
      "0   0  House Dem Aide: We Didn’t Even See Comey’s Let...       Darrell Lucus   \n",
      "1   1  FLYNN: Hillary Clinton, Big Woman on Campus - ...     Daniel J. Flynn   \n",
      "2   2                  Why the Truth Might Get You Fired  Consortiumnews.com   \n",
      "3   3  15 Civilians Killed In Single US Airstrike Hav...     Jessica Purkiss   \n",
      "4   4  Iranian woman jailed for fictional unpublished...      Howard Portnoy   \n",
      "\n",
      "                                                text  label  \n",
      "0  House Dem Aide: We Didn’t Even See Comey’s Let...      1  \n",
      "1  Ever get the feeling your life circles the rou...      0  \n",
      "2  Why the Truth Might Get You Fired October 29, ...      1  \n",
      "3  Videos 15 Civilians Killed In Single US Airstr...      1  \n",
      "4  Print \\nAn Iranian woman has been sentenced to...      1  \n"
     ]
    }
   ],
   "source": [
    "data = pd.read_csv(\"train.csv\")\n",
    "print(data.head())"
   ]
  },
  {
   "cell_type": "code",
   "execution_count": 4,
   "id": "48717aa2",
   "metadata": {},
   "outputs": [
    {
     "name": "stdout",
     "output_type": "stream",
     "text": [
      "   id                                              title  \\\n",
      "0   0  House Dem Aide: We Didn’t Even See Comey’s Let...   \n",
      "1   1  FLYNN: Hillary Clinton, Big Woman on Campus - ...   \n",
      "2   2                  Why the Truth Might Get You Fired   \n",
      "3   3  15 Civilians Killed In Single US Airstrike Hav...   \n",
      "4   4  Iranian woman jailed for fictional unpublished...   \n",
      "\n",
      "                                                text  label  \n",
      "0  House Dem Aide: We Didn’t Even See Comey’s Let...      1  \n",
      "1  Ever get the feeling your life circles the rou...      0  \n",
      "2  Why the Truth Might Get You Fired October 29, ...      1  \n",
      "3  Videos 15 Civilians Killed In Single US Airstr...      1  \n",
      "4  Print \\nAn Iranian woman has been sentenced to...      1  \n"
     ]
    }
   ],
   "source": [
    "df = data.drop('id', axis=1)\n",
    "df = data.drop('title', axis=1)\n",
    "df = data.drop('author', axis=1)\n",
    "print(df.head())"
   ]
  },
  {
   "cell_type": "code",
   "execution_count": 5,
   "id": "f704697d",
   "metadata": {},
   "outputs": [
    {
     "data": {
      "text/plain": [
       "(16640, 180445)"
      ]
     },
     "execution_count": 5,
     "metadata": {},
     "output_type": "execute_result"
    }
   ],
   "source": [
    "# Create CountVectorizer objects for each text column\n",
    "vectorizer_text = CountVectorizer()\n",
    "\n",
    "X_text = vectorizer_text.fit_transform(df['text'].astype('U').values)\n",
    "\n",
    "X = X_text\n",
    "y = df['label']\n",
    "\n",
    "X_train, X_test, y_train, y_test = train_test_split(X, y, test_size=0.2, random_state=42)\n",
    "X_train.shape"
   ]
  },
  {
   "cell_type": "code",
   "execution_count": 6,
   "id": "06117848",
   "metadata": {},
   "outputs": [
    {
     "data": {
      "text/plain": [
       "(4160, 180445)"
      ]
     },
     "execution_count": 6,
     "metadata": {},
     "output_type": "execute_result"
    }
   ],
   "source": [
    "X_test.shape"
   ]
  },
  {
   "cell_type": "markdown",
   "id": "14000a09",
   "metadata": {},
   "source": [
    "## Machine learning model building and evaluation\n",
    "In the machine learning model building and evaluation section, three machine learning algorithms are trained and evaluated using the training and testing sets: Decision Tree Classifier, Random Forest Classifier, and Logistic Regression. The accuracy and classification report for each algorithm are printed to the console."
   ]
  },
  {
   "cell_type": "code",
   "execution_count": 7,
   "id": "9f852538",
   "metadata": {},
   "outputs": [
    {
     "name": "stdout",
     "output_type": "stream",
     "text": [
      "Accuracy: 0.9\n"
     ]
    }
   ],
   "source": [
    "clf = DecisionTreeClassifier()\n",
    "clf.fit(X_train, y_train)\n",
    "y_pred = clf.predict(X_test)\n",
    "\n",
    "accuracy = accuracy_score(y_test, y_pred)\n",
    "print(\"Accuracy:\", accuracy)"
   ]
  },
  {
   "cell_type": "code",
   "execution_count": 8,
   "id": "cde36734",
   "metadata": {
    "scrolled": false
   },
   "outputs": [
    {
     "name": "stdout",
     "output_type": "stream",
     "text": [
      "              precision    recall  f1-score   support\n",
      "\n",
      "           0       0.90      0.90      0.90      2132\n",
      "           1       0.90      0.90      0.90      2028\n",
      "\n",
      "    accuracy                           0.90      4160\n",
      "   macro avg       0.90      0.90      0.90      4160\n",
      "weighted avg       0.90      0.90      0.90      4160\n",
      "\n"
     ]
    }
   ],
   "source": [
    "print(classification_report(y_test , y_pred))"
   ]
  },
  {
   "cell_type": "code",
   "execution_count": 9,
   "id": "73699597",
   "metadata": {},
   "outputs": [
    {
     "name": "stdout",
     "output_type": "stream",
     "text": [
      "Accuracy: 0.9117788461538462\n"
     ]
    }
   ],
   "source": [
    "rfc = RandomForestClassifier()\n",
    "rfc.fit(X_train , y_train)\n",
    "pred_rfc = rfc.predict(X_test)\n",
    "\n",
    "accuracy = accuracy_score(y_test, pred_rfc)\n",
    "print(\"Accuracy:\", accuracy)"
   ]
  },
  {
   "cell_type": "code",
   "execution_count": 10,
   "id": "27dc9124",
   "metadata": {},
   "outputs": [
    {
     "name": "stdout",
     "output_type": "stream",
     "text": [
      "              precision    recall  f1-score   support\n",
      "\n",
      "           0       0.89      0.94      0.92      2132\n",
      "           1       0.94      0.88      0.91      2028\n",
      "\n",
      "    accuracy                           0.91      4160\n",
      "   macro avg       0.91      0.91      0.91      4160\n",
      "weighted avg       0.91      0.91      0.91      4160\n",
      "\n"
     ]
    }
   ],
   "source": [
    "print(classification_report(y_test , pred_rfc))"
   ]
  },
  {
   "cell_type": "code",
   "execution_count": 11,
   "id": "fdc4d3f5",
   "metadata": {},
   "outputs": [
    {
     "name": "stdout",
     "output_type": "stream",
     "text": [
      "Accuracy: 0.9622596153846154\n"
     ]
    },
    {
     "name": "stderr",
     "output_type": "stream",
     "text": [
      "C:\\ProgramData\\anaconda3\\lib\\site-packages\\sklearn\\linear_model\\_logistic.py:458: ConvergenceWarning: lbfgs failed to converge (status=1):\n",
      "STOP: TOTAL NO. of ITERATIONS REACHED LIMIT.\n",
      "\n",
      "Increase the number of iterations (max_iter) or scale the data as shown in:\n",
      "    https://scikit-learn.org/stable/modules/preprocessing.html\n",
      "Please also refer to the documentation for alternative solver options:\n",
      "    https://scikit-learn.org/stable/modules/linear_model.html#logistic-regression\n",
      "  n_iter_i = _check_optimize_result(\n"
     ]
    }
   ],
   "source": [
    "lr = LogisticRegression()\n",
    "lr.fit(X_train , y_train)\n",
    "pred_lr = lr.predict(X_test)\n",
    "\n",
    "accuracy = accuracy_score(y_test, pred_lr)\n",
    "print(\"Accuracy:\", accuracy)"
   ]
  },
  {
   "cell_type": "code",
   "execution_count": 12,
   "id": "f734460e",
   "metadata": {},
   "outputs": [
    {
     "name": "stdout",
     "output_type": "stream",
     "text": [
      "              precision    recall  f1-score   support\n",
      "\n",
      "           0       0.97      0.96      0.96      2132\n",
      "           1       0.96      0.97      0.96      2028\n",
      "\n",
      "    accuracy                           0.96      4160\n",
      "   macro avg       0.96      0.96      0.96      4160\n",
      "weighted avg       0.96      0.96      0.96      4160\n",
      "\n"
     ]
    }
   ],
   "source": [
    "print(classification_report(y_test , pred_lr))"
   ]
  },
  {
   "cell_type": "markdown",
   "id": "110c274f",
   "metadata": {},
   "source": [
    "## GUI\n",
    "GUI is created using the Tkinter library. The user can enter new text into a text box and click a button to classify the text as either true or fake using the trained Logistic Regression Classifier. If the text is classified as fake, a warning message box is displayed. If the text is classified as true, an info message box is displayed."
   ]
  },
  {
   "cell_type": "code",
   "execution_count": 13,
   "id": "64a452a4",
   "metadata": {},
   "outputs": [],
   "source": [
    "import tkinter as tk\n",
    "from tkinter import messagebox\n",
    "\n",
    "\n",
    "# Create the GUI\n",
    "window = tk.Tk()\n",
    "window.title(\"Fake News\")\n",
    "\n",
    "# Define a function to classify the input text\n",
    "def classify():\n",
    "    input_text = text_input.get(\"1.0\", \"end-1c\")\n",
    "    \n",
    "    if len(input_text) == 0:\n",
    "        messagebox.showwarning(\"Warning\", \"Please enter some text.\")\n",
    "    else:\n",
    "        # Vectorize the input text and predict its label\n",
    "        X_input_text = vectorizer_text.transform([input_text])\n",
    "        y_pred = lr.predict(X_input_text)\n",
    "        \n",
    "        if y_pred[0] == 0:\n",
    "            messagebox.showinfo(\"Result\", \"This news is true.\")\n",
    "        else:\n",
    "            messagebox.showwarning(\"Result\", \"This news is fake.\")\n",
    "\n",
    "# Create the input text box and the classify button\n",
    "text_label = tk.Label(window, text=\"Enter the news text:\")\n",
    "text_label.pack()\n",
    "text_input = tk.Text(window, height=30)\n",
    "text_input.pack()\n",
    "classify_button = tk.Button(window, text=\"Classify\", command = classify)\n",
    "classify_button.pack()\n",
    "\n",
    "# Run the GUI\n",
    "window.mainloop()"
   ]
  },
  {
   "cell_type": "code",
   "execution_count": null,
   "id": "a01a8c04",
   "metadata": {},
   "outputs": [],
   "source": []
  }
 ],
 "metadata": {
  "kernelspec": {
   "display_name": "Python 3 (ipykernel)",
   "language": "python",
   "name": "python3"
  },
  "language_info": {
   "codemirror_mode": {
    "name": "ipython",
    "version": 3
   },
   "file_extension": ".py",
   "mimetype": "text/x-python",
   "name": "python",
   "nbconvert_exporter": "python",
   "pygments_lexer": "ipython3",
   "version": "3.10.9"
  }
 },
 "nbformat": 4,
 "nbformat_minor": 5
}
